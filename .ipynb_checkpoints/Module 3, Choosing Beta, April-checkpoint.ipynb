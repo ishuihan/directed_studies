{
 "metadata": {
  "name": "",
  "signature": "sha256:eb77b5d4bff9952036af5e527fce6481ab61d468127ab39ca1b4d06f322326ba"
 },
 "nbformat": 3,
 "nbformat_minor": 0,
 "worksheets": [
  {
   "cells": [
    {
     "cell_type": "heading",
     "level": 1,
     "metadata": {},
     "source": [
      "Module 3: Choosing $\\beta$, $\\alpha_s$, and $\\alpha_x$"
     ]
    },
    {
     "cell_type": "markdown",
     "metadata": {},
     "source": [
      "Now that we have obtained a solution to our inverse problem, there are non-unique aspects that still remain, namely we do not have values for $\\alpha_s$, $\\alpha_x$, and $\\beta$. In this module we are going to go over some of the practical aspects of choosing these values.\n",
      "\n",
      "\n",
      "\n",
      "\n",
      "\n"
     ]
    },
    {
     "cell_type": "heading",
     "level": 2,
     "metadata": {},
     "source": [
      "Choosing $\\beta$"
     ]
    },
    {
     "cell_type": "markdown",
     "metadata": {},
     "source": [
      "There are several methods that can be used to choose $\\beta$. This module will only do one in practice. A good summary of methods for choosing $\\beta$, however, can be found on the Inversion for Applied Geophysics website here: http://www.eos.ubc.ca/ubcgif/iag/index.htm. <br>\n",
      "\n",
      "In our case we are going to perform our inversion for a range of $\\beta$ values and then compute $\\phi_d$ and $\\phi_m$ for each instance. Making a plot of $\\phi_d$ vs. $\\phi_m$ yields what is known as the the Tikhonov curve. By looking at the behavior of the curve, one can then select a criteria for choosing the optimal $\\beta$ value. In most cases, a desired value for $\\phi_d$ is chosen (denoted as $\\phi_d^*$), and the $\\beta$ value that corresponds to this is considered the appropriate choice. As mentioned briefly in the last module, given that we have assumed Gaussian statistics for our noise model with known standard deviations, then we can expect $\\phi_d$ to be approximately equal to the number of data. So what this means is that we are going to set our value for $\\phi_d^*$ as the number of data we have and choose the corresponding $\\beta$. <br>\n",
      "\n",
      "It is best, however, to see things in action as we go along, so once again, we are going to recreate the material from the last module and proceed from there. As before, we will begin by importing our packages:"
     ]
    },
    {
     "cell_type": "code",
     "collapsed": false,
     "input": [
      "# Import Packages\n",
      "from SimPEG import *\n",
      "from IPython.html.widgets import interactive\n",
      "import numpy as np\n",
      "%pylab inline"
     ],
     "language": "python",
     "metadata": {},
     "outputs": [
      {
       "output_type": "stream",
       "stream": "stdout",
       "text": [
        "Efficiency Warning: Interpolation will be slow, use setup.py!\n",
        "\n",
        "            python setup.py build_ext --inplace\n",
        "    \n",
        "Populating the interactive namespace from numpy and matplotlib"
       ]
      },
      {
       "output_type": "stream",
       "stream": "stdout",
       "text": [
        "\n"
       ]
      },
      {
       "output_type": "stream",
       "stream": "stderr",
       "text": [
        "WARNING: pylab import has clobbered these variables: ['interactive']\n",
        "`%matplotlib` prevents importing * from pylab and numpy\n"
       ]
      }
     ],
     "prompt_number": 2
    },
    {
     "cell_type": "heading",
     "level": 2,
     "metadata": {},
     "source": [
      "Setting up the same problem"
     ]
    },
    {
     "cell_type": "markdown",
     "metadata": {},
     "source": [
      "Next, we will rebuild our model parameters, kernel functions, averaging and volume matrices, produce our synthetic data, add noise, and build the tools we need to calculate $\\phi_d$ and $\\phi_m$ as before. This time, however, we will avoid plotting them."
     ]
    },
    {
     "cell_type": "code",
     "collapsed": false,
     "input": [
      "# Begin by creating a ficticious set of model parameters\n",
      "\n",
      "M=1000                      # Set number of model parameters \n",
      "x=np.linspace(0,1,M+1)      # Define 1D domain on nodes\n",
      "xc = 0.5*(x[1:] + x[0:-1])  # Define 1D domain on cell centers\n",
      "m = np.zeros(M)             # preallocate m array \n",
      "\n",
      "# Define Gaussian function:\n",
      "gauss = lambda x, a, mean, SD: a*np.exp(-(x-mean)**2./(2.*SD**2.)) # create a Gaussian function\n",
      "\n",
      "# Choose parameters for Gaussian, evaluate, and store in an array, f.\n",
      "SD=6                           \n",
      "mean=0\n",
      "a=1/(SD*sqrt(2*pi))\n",
      "x2=np.linspace(-20,20,0.2*M)  \n",
      "f = gauss(x2,a, mean,SD)\n",
      "\n",
      "# Define a boxcar function:\n",
      "box = 0.4*np.ones(0.2*M)\n",
      "\n",
      "# Insert the Gaussian and Boxcar into m:\n",
      "m[0.2*M:0.4*M]=box\n",
      "m[0.6*M:0.8*M]=10*f\n",
      "   \n",
      "\n",
      "# Make the set of kernel functions\n",
      "g = lambda x, i, p, q: np.exp(-p*i*x)*np.cos(2*np.pi*q*i*x) # create an anonymous function as immediately above\n",
      "p = 0.01      # Set values for p, q\n",
      "q = 0.15\n",
      "N = 20        # specify number of output data\n",
      "Gn = np.zeros((M+1,N))\n",
      "\n",
      "for i in range(N):\n",
      "    f = g(x,i,p,q)\n",
      "    Gn[:,i] = f\n",
      "    \n",
      "\n",
      "# Make Averaging Matrix\n",
      "n=M+1            # Define n as the N+1 dimension of the matrix   \n",
      "w=n-1            # Define w and the n-1  dimentsion of the matix   \n",
      "s = (M,n)        # Store matrix values \n",
      "Av = np.zeros(s) # Create a matrix of zeros of the correct dimensions \n",
      "                 # and fill in with elements usin the loop below (note the 1/2 is included in here). \n",
      "for i in range(M):\n",
      "    j=i\n",
      "    k=i+1\n",
      "    Av[i,j] = 0.5  \n",
      "    Av[i,k] = 0.5\n",
      "\n",
      "\n",
      "# make the Volume, \"delta x\" array\n",
      "Deltax = diff(x)\n",
      "V = np.diag(Deltax)     # create diagonal matrix   \n",
      "\n",
      "# Produce our data\n",
      "G=np.dot(np.transpose(np.dot(Av, Gn)), V)\n",
      "d = np.dot(np.dot(np.transpose(np.dot(Av, Gn)), V),m)   # Create synthetic data\n",
      "xd=np.linspace(0,1,len(d))                              # make x array for data \n",
      "\n",
      "# Add noise to our synthetic data\n",
      "\n",
      "noise = lambda fl, length, data, s: fl + randn(length)*data*s # introduce noise using a floor (f), length (l) and scaling factor (s)\n",
      "\n",
      "r = noise(0, len(d), d, 0.04)\n",
      "\n",
      "dobs= d + r\n",
      "\n",
      "# Calculate the data misfit, phi_d #\n",
      "####################################\n",
      "\n",
      "# Anonymous function for 2-Norm\n",
      "L2 = lambda A, w: dot(dot(w.T,A.T),dot(A,w))  \n",
      "\n",
      "#This constructs the inverses of the variances. \n",
      "invvar = lambda floor, percent, data: 1./(floor + percent*np.abs(data))\n",
      "                            \n",
      "# assign a floor\n",
      "flr = 0.2*dot(d.T,d)**0.5/len(d)\n",
      "\n",
      "# Make Wd\n",
      "eps = invvar(flr,0.05,dobs) # define epsilon and Wd\n",
      "Wd=np.diag(eps) \n",
      "\n",
      "\n",
      "# Take the 2-norm\n",
      "phi_d = L2(Wd, np.dot(G,m)-dobs)\n",
      "\n",
      "# Reference Model#\n",
      "##################\n",
      "## A constant reference model ##\n",
      "mref = np.mean(m)*np.ones(M)   \n",
      "\n",
      "\n",
      "# Domains #\n",
      "###############################                       # Set up domains:\n",
      "l = np.power(x[1:len(x)]-x[0:len(x)-1],0.5)           # vector of distances between nodes, l\n",
      "midx=np.dot(Av,x)                                     # vector of midpoints, midx \n",
      "h = np.power(midx[1:len(midx)]-x[0:len(midx)-1], 0.5) # Calculate distances between midpoints & take sqr roots of each value in vector h\n",
      "\n",
      "\n",
      "\n",
      "# Create Ws, Wx matrices\n",
      "Ws=np.diag(l)                                  # put length vector into a diagonal matrix, Ws\n",
      "Wx = np.zeros((len(m), len(m)))                # preaollocate array and enter values into matrix, Wx\n",
      "for i in range(len(h)):\n",
      "    j=i\n",
      "    k=i+1\n",
      "    Wx[i,j] = h[i]  \n",
      "    Wx[i,k] = h[i]  \n",
      "    \n",
      "alpha_s=0.1                                    # Set alpha_s and alpha_x values  \n",
      "alpha_x=0.15\n",
      "\n",
      "# build Wm #\n",
      "Wm=np.concatenate((alpha_s*Ws, alpha_x*Wx), axis=0)\n"
     ],
     "language": "python",
     "metadata": {},
     "outputs": [
      {
       "ename": "NameError",
       "evalue": "name 'np' is not defined",
       "output_type": "pyerr",
       "traceback": [
        "\u001b[1;31m---------------------------------------------------------------------------\u001b[0m\n\u001b[1;31mNameError\u001b[0m                                 Traceback (most recent call last)",
        "\u001b[1;32m<ipython-input-1-603b892fe3bc>\u001b[0m in \u001b[0;36m<module>\u001b[1;34m()\u001b[0m\n\u001b[0;32m      2\u001b[0m \u001b[1;33m\u001b[0m\u001b[0m\n\u001b[0;32m      3\u001b[0m \u001b[0mM\u001b[0m\u001b[1;33m=\u001b[0m\u001b[1;36m1000\u001b[0m                      \u001b[1;31m# Set number of model parameters\u001b[0m\u001b[1;33m\u001b[0m\u001b[0m\n\u001b[1;32m----> 4\u001b[1;33m \u001b[0mx\u001b[0m\u001b[1;33m=\u001b[0m\u001b[0mnp\u001b[0m\u001b[1;33m.\u001b[0m\u001b[0mlinspace\u001b[0m\u001b[1;33m(\u001b[0m\u001b[1;36m0\u001b[0m\u001b[1;33m,\u001b[0m\u001b[1;36m1\u001b[0m\u001b[1;33m,\u001b[0m\u001b[0mM\u001b[0m\u001b[1;33m+\u001b[0m\u001b[1;36m1\u001b[0m\u001b[1;33m)\u001b[0m      \u001b[1;31m# Define 1D domain on nodes\u001b[0m\u001b[1;33m\u001b[0m\u001b[0m\n\u001b[0m\u001b[0;32m      5\u001b[0m \u001b[0mxc\u001b[0m \u001b[1;33m=\u001b[0m \u001b[1;36m0.5\u001b[0m\u001b[1;33m*\u001b[0m\u001b[1;33m(\u001b[0m\u001b[0mx\u001b[0m\u001b[1;33m[\u001b[0m\u001b[1;36m1\u001b[0m\u001b[1;33m:\u001b[0m\u001b[1;33m]\u001b[0m \u001b[1;33m+\u001b[0m \u001b[0mx\u001b[0m\u001b[1;33m[\u001b[0m\u001b[1;36m0\u001b[0m\u001b[1;33m:\u001b[0m\u001b[1;33m-\u001b[0m\u001b[1;36m1\u001b[0m\u001b[1;33m]\u001b[0m\u001b[1;33m)\u001b[0m  \u001b[1;31m# Define 1D domain on cell centers\u001b[0m\u001b[1;33m\u001b[0m\u001b[0m\n\u001b[0;32m      6\u001b[0m \u001b[0mm\u001b[0m \u001b[1;33m=\u001b[0m \u001b[0mnp\u001b[0m\u001b[1;33m.\u001b[0m\u001b[0mzeros\u001b[0m\u001b[1;33m(\u001b[0m\u001b[0mM\u001b[0m\u001b[1;33m)\u001b[0m             \u001b[1;31m# preallocate m array\u001b[0m\u001b[1;33m\u001b[0m\u001b[0m\n",
        "\u001b[1;31mNameError\u001b[0m: name 'np' is not defined"
       ]
      }
     ],
     "prompt_number": 1
    },
    {
     "cell_type": "heading",
     "level": 2,
     "metadata": {},
     "source": [
      "Plotting the Tikhonov Curve"
     ]
    },
    {
     "cell_type": "markdown",
     "metadata": {},
     "source": [
      "The next step is to make the $\\phi_d$ vs. $\\phi_m$ \"Tikhonov\" curve. We are going to do this by making a loop, starting with a $\\beta$ value of 100000, and dividing it in half for each iteration. This will provide us with a picture of how $\\phi_d$ and $\\phi_m$ interact with each other as $\\beta$ changes. We are going to do this by defining a lambda function to obtain the recovered model as before, and then store and plot the values for $\\phi_d$ and $\\phi_m$. Run the script below and note how there is a \"trade off\" for $\\phi_d$ and $\\phi_m$; that is, as $\\phi_d$ gets smaller, $\\phi_m$ gets larger."
     ]
    },
    {
     "cell_type": "code",
     "collapsed": false,
     "input": [
      "# Make the Tikhonov Curve\n",
      "beta = 100000                                  # Set beta value\n",
      "itns = 10                                      # set maximum number of iterations\n",
      "phdTik=np.zeros(itns)                          # preallocate arrays\n",
      "phmTik=np.zeros(itns)\n",
      "foo = np.zeros(itns)\n",
      "\n",
      "\n",
      "\n",
      "# Get recovered model\n",
      "mrecovered = lambda G,Wd,Wm,data,mref, beta: dot(np.linalg.inv(dot(dot(G.T,Wd.T),dot(Wd,G)) + beta*dot(Wm.T,Wm)),dot(dot(G.T,Wd),dot(Wd,dobs)) + beta*dot(dot(Wm.T,Wm),mref))\n",
      "\n",
      "for i in range(itns):    \n",
      "    mrec = mrecovered(G,Wd,Wm,dobs,mref,beta)\n",
      "    phdTik[i] = L2(Wd, np.dot(G,mrec)-dobs)\n",
      "    phmTik[i] = L2(Wm, mref-mrec)\n",
      "    beta=beta*0.5\n",
      "\n",
      "\n",
      "pylab.plot(phmTik,phdTik,'o')\n",
      "pylab.xlabel('$\\phi_m$')\n",
      "pylab.ylabel('$\\phi_d$')\n",
      "pylab.title('Tikhonov Curve')   "
     ],
     "language": "python",
     "metadata": {},
     "outputs": [
      {
       "metadata": {},
       "output_type": "pyout",
       "prompt_number": 52,
       "text": [
        "<matplotlib.text.Text at 0x13e74f98>"
       ]
      },
      {
       "metadata": {},
       "output_type": "display_data",
       "png": "[encoded data removed]",
       "text": [
        "<matplotlib.figure.Figure at 0x13f69710>"
       ]
      }
     ],
     "prompt_number": 52
    },
    {
     "cell_type": "heading",
     "level": 2,
     "metadata": {},
     "source": [
      "Interpreting the Tikhonov Curve: when $\\phi_d$ is large"
     ]
    },
    {
     "cell_type": "markdown",
     "metadata": {},
     "source": [
      "Let's consider how different $\\beta$ values affect the recovered model that we obtain. We know from the statistics that the $\\beta$ value that we seek should be when $\\phi_d$ is equal to the number of data that we have. If the $\\beta$ value we choose results in a value of $\\phi_d$ that is large (that is, when we have a larger misfit), our predictions will look less like the observations. Also, the model regularization value will be small, and this means that the model will be \"simpler\" than the optimum model. \n"
     ]
    },
    {
     "cell_type": "code",
     "collapsed": false,
     "input": [
      "beta = 100000\n",
      "mrec = mrecovered(G,Wd,Wm,dobs,mref,beta)\n",
      "\n",
      "# Get residual of mref and mrec\n",
      "phi_d2 = L2(Wd,np.dot(G,mrec)-dobs)\n",
      "phi_m2 = L2(Wm, mref-mrec)\n",
      "\n",
      "\n",
      "# Plot      \n",
      "pylab.plot(xc,m)\n",
      "pylab.plot(xc,mrec)\n",
      "pylab.xlabel('x')\n",
      "pylab.ylabel('m(x)')\n",
      "pylab.title('Model, $m(x)$')\n",
      "\n"
     ],
     "language": "python",
     "metadata": {},
     "outputs": [
      {
       "metadata": {},
       "output_type": "pyout",
       "prompt_number": 53,
       "text": [
        "<matplotlib.text.Text at 0x14d21da0>"
       ]
      },
      {
       "metadata": {},
       "output_type": "display_data",
       "png": "[encoded data removed]",
       "text": [
        "<matplotlib.figure.Figure at 0x147d0828>"
       ]
      }
     ],
     "prompt_number": 53
    },
    {
     "cell_type": "heading",
     "level": 2,
     "metadata": {},
     "source": [
      "Interpreting the Tikhonov Curve: when $\\phi_d$ is small"
     ]
    },
    {
     "cell_type": "markdown",
     "metadata": {},
     "source": [
      "If we choose a value that produces a smaller misfit (that is, when it is less than the statistical expected value, then the model regularization term will be large. That means the model is more complicated, or in geologic terms, there is more \"structure\" to the model, so it is likely that some of that \"excess structure\" is there to account for noise in the data. In other words, a model that causes too small a misfit value probably has excess, erroneous features.\n"
     ]
    },
    {
     "cell_type": "code",
     "collapsed": false,
     "input": [
      "beta = 50\n",
      "mrec = mrecovered(G,Wd,Wm,dobs,mref,beta)\n",
      "\n",
      "# Get residual of mref and mrec\n",
      "phi_d2 = L2(Wd,np.dot(G,mrec)-dobs)\n",
      "phi_m2 = L2(Wm, mref-mrec)\n",
      "\n",
      "\n",
      "# Plot      \n",
      "pylab.plot(xc,m)\n",
      "pylab.plot(xc,mrec)\n",
      "pylab.xlabel('x')\n",
      "pylab.ylabel('m(x)')\n",
      "pylab.title('Model, $m(x)$')\n"
     ],
     "language": "python",
     "metadata": {},
     "outputs": [
      {
       "metadata": {},
       "output_type": "pyout",
       "prompt_number": 57,
       "text": [
        "<matplotlib.text.Text at 0x15537860>"
       ]
      },
      {
       "metadata": {},
       "output_type": "display_data",
       "png": "[encoded data removed]",
       "text": [
        "<matplotlib.figure.Figure at 0x14d25748>"
       ]
      }
     ],
     "prompt_number": 57
    },
    {
     "cell_type": "heading",
     "level": 2,
     "metadata": {},
     "source": [
      "Bisection to find $\\beta$"
     ]
    },
    {
     "cell_type": "markdown",
     "metadata": {},
     "source": [
      "So how *do* we achieve our optimum value $\\phi_d^*$? We are going to implement a variation of a bisection method to get our value. What we want is to be able to find the value for beta that corresponds to $\\phi_d=\\phi_d^*$. Of course we will not obtain exact equality, so what we will do is choose a tolerance value such that while the absolute value of the difference between $\\phi_d$ and $\\phi_d^*$ is greater than that value, our algorithm will keep searching. We start by assigning and initial value to $\\beta$, and then check our tolerance condition. If it is not met, then we check if $\\phi_d$ is greater than $\\phi_d^*$. If it is, then we reduce $\\beta$ by half and continue checking. Once we obtain a value for $\\phi_d$ that is less than $\\phi_d^*$, we are going to want to have our algorithm back up. We know the previous value for $\\phi_d$ will be too large, and our current value will be too small, so we will pick the intermediate value of the two and then check in which region $\\phi_d^*$ lies. From there we will proceed on \"zeroing in\" on our choice for beta until the desired tolerance value is reached. Running the code below finds the optimal $\\beta$ value and prints out some of the details that occur inside the algorithm. "
     ]
    },
    {
     "cell_type": "code",
     "collapsed": false,
     "input": [
      "beta_0=1000000\n",
      "beta=beta_0\n",
      "tol=0.00001\n",
      "i=1\n",
      "itns=10\n",
      "mrec = mrecovered(G,Wd,Wm,dobs,mref,beta)\n",
      "phid = L2(Wd,np.dot(G,mrec)-dobs)\n",
      "phi_dstar=20\n",
      "\n",
      "while np.absolute(phid - phi_dstar)>tol:  \n",
      "    j=i\n",
      "    mrec = mrecovered(G,Wd,Wm,dobs,mref,beta)\n",
      "    phid = L2(Wd,np.dot(G,mrec)-dobs)\n",
      "    print(\"Iteration = \",j, \"beta=\", beta, \"phid at start=\",phid)\n",
      "    if phid>phi_dstar:\n",
      "        beta = beta_0*0.5**i\n",
      "        print(\"beta=\", beta)\n",
      "    if phid<phi_dstar:\n",
      "        beta_abv = beta_0*0.5**(i-2)\n",
      "        beta_bel = beta_0*0.5**(i-1)\n",
      "        beta_mid = 0.5*(beta_abv+beta_bel)\n",
      "        mmid = mrecovered(G,Wd,Wm,dobs,mref,beta_mid)\n",
      "        phidmid = L2(Wd,np.dot(G,mmid)-dobs)  \n",
      "        #for k in range(itns):\n",
      "        while np.absolute(phidmid - phi_dstar)>tol:\n",
      "            if phidmid<phi_dstar:\n",
      "                beta_abv = beta_0*0.5**(i-2)\n",
      "                beta_bel = beta_mid\n",
      "                beta_mid = 0.5*(beta_abv+beta_bel)\n",
      "                beta=beta_mid\n",
      "                mmid = mrecovered(G,Wd,Wm,dobs,mref,beta_mid)\n",
      "                phidmid = L2(Wd,np.dot(G,mmid)-dobs)           \n",
      "            if phidmid>phi_dstar:\n",
      "                beta_abv = beta_mid\n",
      "                beta_bel = beta_bel\n",
      "                beta_mid = 0.5*(beta_abv+beta_bel)\n",
      "                beta=beta_mid\n",
      "                mmid = mrecovered(G,Wd,Wm,dobs,mref,beta_mid)\n",
      "                phidmid = L2(Wd,np.dot(G,mmid)-dobs)                \n",
      "                if phidmid<phi_dstar:\n",
      "                    beta_abv = beta_abv\n",
      "                    beta_bel = beta_mid\n",
      "                    beta_mid = 0.5*(beta_abv+beta_bel)\n",
      "                    beta=beta_mid\n",
      "                mmid = mrecovered(G,Wd,Wm,dobs,mref,beta_mid)\n",
      "                phidmid = L2(Wd,np.dot(G,mmid)-dobs)              \n",
      "            phid=phidmid\n",
      "            mrec=mmid\n",
      "    i=i+1   \n",
      "print(\"At end beta=\", beta,\"phid=\", phid)    "
     ],
     "language": "python",
     "metadata": {},
     "outputs": [
      {
       "output_type": "stream",
       "stream": "stdout",
       "text": [
        "('Iteration = ', 1, 'beta=', 1000000, 'phid at start=', 663.19625035709964)\n",
        "('beta=', 500000.0)\n",
        "('Iteration = ', 2, 'beta=', 500000.0, 'phid at start=', 433.9080682235159)"
       ]
      },
      {
       "output_type": "stream",
       "stream": "stdout",
       "text": [
        "\n",
        "('beta=', 250000.0)\n",
        "('Iteration = ', 3, 'beta=', 250000.0, 'phid at start=', 233.84817140402461)"
       ]
      },
      {
       "output_type": "stream",
       "stream": "stdout",
       "text": [
        "\n",
        "('beta=', 125000.0)\n",
        "('Iteration = ', 4, 'beta=', 125000.0, 'phid at start=', 103.03342928144829)"
       ]
      },
      {
       "output_type": "stream",
       "stream": "stdout",
       "text": [
        "\n",
        "('beta=', 62500.0)\n",
        "('Iteration = ', 5, 'beta=', 62500.0, 'phid at start=', 38.784859850541906)"
       ]
      },
      {
       "output_type": "stream",
       "stream": "stdout",
       "text": [
        "\n",
        "('beta=', 31250.0)\n",
        "('Iteration = ', 6, 'beta=', 31250.0, 'phid at start=', 13.827954719583573)"
       ]
      },
      {
       "output_type": "stream",
       "stream": "stdout",
       "text": [
        "\n",
        "('At end beta=', 40135.479042312734, 'phid=', 20.000009198137366)"
       ]
      },
      {
       "output_type": "stream",
       "stream": "stdout",
       "text": [
        "\n"
       ]
      }
     ],
     "prompt_number": 58
    },
    {
     "cell_type": "markdown",
     "metadata": {},
     "source": [
      "This is what the recovered model looks like for our given $\\beta$:"
     ]
    },
    {
     "cell_type": "code",
     "collapsed": false,
     "input": [
      "mrec = mrecovered(G,Wd,Wm,dobs,mref,beta)\n",
      "phid = L2(Wd,np.dot(G,mrec)-dobs)\n",
      "# Plot      \n",
      "pylab.plot(xc,m)\n",
      "pylab.plot(xc,mrec)\n",
      "pylab.xlabel('x')\n",
      "pylab.ylabel('m(x)')\n",
      "pylab.title('Model, $m(x)$')"
     ],
     "language": "python",
     "metadata": {},
     "outputs": [
      {
       "metadata": {},
       "output_type": "pyout",
       "prompt_number": 59,
       "text": [
        "<matplotlib.text.Text at 0x151fdc88>"
       ]
      },
      {
       "metadata": {},
       "output_type": "display_data",
       "png": "[encoded data removed]",
       "text": [
        "<matplotlib.figure.Figure at 0x1555b2e8>"
       ]
      }
     ],
     "prompt_number": 59
    },
    {
     "cell_type": "markdown",
     "metadata": {},
     "source": [
      "And this is what our predicted data will look like:"
     ]
    },
    {
     "cell_type": "code",
     "collapsed": false,
     "input": [
      "# Get predicted data\n",
      "\n",
      "dpred = np.dot(G,mrec)\n",
      "\n",
      "#pylab.plot(xd,r)\n",
      "pylab.plot(xd,dpred,'o')\n",
      "pylab.plot(xd,dobs)\n",
      "pylab.plot(xd,d,'x')\n",
      "pylab.xlabel('')\n",
      "pylab.ylabel('d')\n",
      "pylab.title('Predicted and Observed Data')"
     ],
     "language": "python",
     "metadata": {},
     "outputs": [
      {
       "metadata": {},
       "output_type": "pyout",
       "prompt_number": 61,
       "text": [
        "<matplotlib.text.Text at 0x15897b38>"
       ]
      },
      {
       "metadata": {},
       "output_type": "display_data",
       "png": "[encoded data removed]",
       "text": [
        "<matplotlib.figure.Figure at 0x15553518>"
       ]
      }
     ],
     "prompt_number": 61
    },
    {
     "cell_type": "heading",
     "level": 2,
     "metadata": {},
     "source": [
      "Choosing $\\alpha_S$ and $\\alpha_x$"
     ]
    },
    {
     "cell_type": "markdown",
     "metadata": {},
     "source": [
      "Next, let's consider the two parameters $\\alpha_s$ and $\\alpha_x$ and get an understanding of the units for each. Going back to the original expression for continuous functions we had:\n",
      "\n",
      "$$\n",
      "\\phi_m = \\alpha_s \\int (m)^2 dx + \\alpha_x \\int \\left( \\frac{dm}{dx} \\right)^2 dx\n",
      "$$\n",
      "\n",
      "Knowing that $\\phi_m$ is unitless, one can see that the units for $\\alpha_s$ are $[1/L]$ and those for $\\alpha_x$ are $[L]$. Taking the ratio of $\\alpha_x$ over $\\alpha_s$ gives:\n",
      "\n",
      "$$\n",
      "\\frac{\\alpha_x}{\\alpha_s} = L^2\n",
      "$$\n",
      "\n",
      "or, with respect to $L$ in one spatial domain $x$, we write:\n",
      "\n",
      "$$\n",
      "L_x = \\sqrt{\\frac{\\alpha_x}{\\alpha_s}}\n",
      "$$\n",
      "\n",
      "So a measure of the relative magnitudes of $\\alpha_x$ and $\\alpha_s$ can be determined by the length scale $L$, which ranges from the smallest spatial increment $\\Delta x$ (assuming equal spacing between cells) to the total length of the domain $N \\Delta x$\n",
      "\n",
      "$$\n",
      "\\Delta x < L < N \\Delta x\n",
      "$$\n",
      "\n",
      "As this ratio becomes large, the model becomes smoother in the x-direction, and when it is larger than 1, structure in the model is penalized. "
     ]
    },
    {
     "cell_type": "code",
     "collapsed": false,
     "input": [
      "beta=5000\n",
      "alpha_s=0.1                                    # Set alpha_s and alpha_x values  \n",
      "alpha_x=0.3\n",
      "\n",
      "L=sqrt(alpha_x/alpha_s)\n",
      "print(L)\n",
      "# build Wm #\n",
      "Wm=np.concatenate((alpha_s*Ws, alpha_x*Wx), axis=0)\n",
      "mrec = mrecovered(G,Wd,Wm,dobs,mref,beta)\n",
      "\n",
      "# Plot      \n",
      "pylab.plot(xc,m)\n",
      "pylab.plot(xc,mrec)\n",
      "pylab.xlabel('x')\n",
      "pylab.ylabel('m(x)')\n",
      "pylab.title('Model, $m(x)$')"
     ],
     "language": "python",
     "metadata": {},
     "outputs": [
      {
       "output_type": "stream",
       "stream": "stdout",
       "text": [
        "1.73205080757\n"
       ]
      },
      {
       "metadata": {},
       "output_type": "pyout",
       "prompt_number": 62,
       "text": [
        "<matplotlib.text.Text at 0x15b6f4e0>"
       ]
      },
      {
       "metadata": {},
       "output_type": "display_data",
       "png": "[encoded data removed]",
       "text": [
        "<matplotlib.figure.Figure at 0x15894860>"
       ]
      }
     ],
     "prompt_number": 62
    },
    {
     "cell_type": "markdown",
     "metadata": {},
     "source": [
      "If this ratio is close to zero, then the smallest term dominates and models are rough."
     ]
    },
    {
     "cell_type": "code",
     "collapsed": false,
     "input": [
      "beta=5000\n",
      "alpha_s=0.1                                    # Set alpha_s and alpha_x values  \n",
      "alpha_x=0.00000001\n",
      "\n",
      "L=sqrt(alpha_x/alpha_s)\n",
      "print(L)\n",
      "# build Wm #\n",
      "Wm=np.concatenate((alpha_s*Ws, alpha_x*Wx), axis=0)\n",
      "mrec = mrecovered(G,Wd,Wm,dobs,mref,beta)\n",
      "\n",
      "# Plot      \n",
      "pylab.plot(xc,m)\n",
      "pylab.plot(xc,mrec)\n",
      "pylab.xlabel('x')\n",
      "pylab.ylabel('m(x)')\n",
      "pylab.title('Model, $m(x)$')"
     ],
     "language": "python",
     "metadata": {},
     "outputs": [
      {
       "output_type": "stream",
       "stream": "stdout",
       "text": [
        "0.000316227766017\n"
       ]
      },
      {
       "metadata": {},
       "output_type": "pyout",
       "prompt_number": 63,
       "text": [
        "<matplotlib.text.Text at 0x15d4def0>"
       ]
      },
      {
       "metadata": {},
       "output_type": "display_data",
       "png": "[encoded data removed]",
       "text": [
        "<matplotlib.figure.Figure at 0x15882780>"
       ]
      }
     ],
     "prompt_number": 63
    },
    {
     "cell_type": "markdown",
     "metadata": {},
     "source": [
      "This concludes the third module. Now let's return to the workflow we looked at the beginning of this tutorial:<br>\n",
      "\n",
      "<img src=\"figures/workflow.jpg\" width=\"40%\" height=\"40%\"> <br>\n",
      "\n",
      "We have, for a very simple problem, covered the rudimentary ideas involved with performing an inversion. By creating a forward problem and adding noise to our data, we have simulated the \"survey\" aspect where we would collect data in the field. We built our kernel functions to model the physics of the problem and placed this information onto a one dimensional mesh. Next, we defined a data misfit and model regularization, then we articulated our inverse problem as a gradient-based optimization. Last, we performed our inversion to obtain a recovered model for our parameters and explored some of the aspects of choosing parameters to assist us in solving our problem. \n"
     ]
    }
   ],
   "metadata": {}
  }
 ]
}