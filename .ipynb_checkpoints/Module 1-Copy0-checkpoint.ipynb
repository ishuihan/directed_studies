{
 "metadata": {
  "name": "",
  "signature": "sha256:9758ce5987e7953dd51265121fb7fbe7a9bd245945f3f5a41cbfe9579c5d4727"
 },
 "nbformat": 3,
 "nbformat_minor": 0,
 "worksheets": [
  {
   "cells": [
    {
     "cell_type": "heading",
     "level": 1,
     "metadata": {},
     "source": [
      "Module 1"
     ]
    },
    {
     "cell_type": "markdown",
     "metadata": {},
     "source": [
      "To begin, import SimPEG into ipython notebook as follows:"
     ]
    },
    {
     "cell_type": "code",
     "collapsed": false,
     "input": [
      "from SimPEG import *\n",
      "from IPython.html.widgets import interactive"
     ],
     "language": "python",
     "metadata": {},
     "outputs": [
      {
       "output_type": "stream",
       "stream": "stdout",
       "text": [
        "Efficiency Warning: Interpolation will be slow, use setup.py!\n",
        "\n",
        "            python setup.py build_ext --inplace\n",
        "    \n"
       ]
      }
     ],
     "prompt_number": 1
    },
    {
     "cell_type": "markdown",
     "metadata": {},
     "source": [
      "<hr>\n",
      "Module summary: <br>\n",
      "(1) Start with an expression that relates a kernel function with the continuous distribution of a physical property. <br>\n",
      "(2) Discretize this expression. <br>\n",
      "(3) Define a mesh that organizes the data. <br>\n",
      "(4) Build up the matrix equation $d = G_c diag(\\Delta x) m$. <br>\n",
      " <hr>"
     ]
    },
    {
     "cell_type": "markdown",
     "metadata": {},
     "source": [
      "Step 1: Physical property distribution and the kernel function. <br> \n",
      "1.1 define kernel function (...add description) <br>\n",
      "1.2 define the model. (...add description) <br>\n",
      "\n",
      "Each datum can be expressed as the inner product of the kernel function and the model:<br>\n",
      "\n",
      "\\begin{equation}d_j = \\int_a^b g(x) m(x) dx \\end{equation}\n"
     ]
    },
    {
     "cell_type": "markdown",
     "metadata": {},
     "source": [
      "<hr>\n",
      "Step 2: Discretize the function for each datum. <br>\n",
      "\n",
      "\\begin{equation}\n",
      "\n",
      "\\end{equation}\n"
     ]
    },
    {
     "cell_type": "code",
     "collapsed": false,
     "input": [],
     "language": "python",
     "metadata": {},
     "outputs": []
    }
   ],
   "metadata": {}
  }
 ]
}