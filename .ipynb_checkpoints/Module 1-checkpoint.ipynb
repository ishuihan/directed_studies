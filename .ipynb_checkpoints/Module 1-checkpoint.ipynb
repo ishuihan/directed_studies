{
 "metadata": {
  "name": "",
  "signature": "sha256:e9ea3e260b8277add4d4cc21f5c0e19cabedd4aac7b87590c9737a31a69bd049"
 },
 "nbformat": 3,
 "nbformat_minor": 0,
 "worksheets": [
  {
   "cells": [
    {
     "cell_type": "heading",
     "level": 1,
     "metadata": {},
     "source": [
      "Module 1: Setting up the problem"
     ]
    },
    {
     "cell_type": "markdown",
     "metadata": {},
     "source": [
      "Before we bgin, import SimPEG into ipython notebook as follows:"
     ]
    },
    {
     "cell_type": "code",
     "collapsed": false,
     "input": [
      "from SimPEG import *\n",
      "from IPython.html.widgets import interactive"
     ],
     "language": "python",
     "metadata": {},
     "outputs": [
      {
       "output_type": "stream",
       "stream": "stdout",
       "text": [
        "Efficiency Warning: Interpolation will be slow, use setup.py!\n",
        "\n",
        "            python setup.py build_ext --inplace\n",
        "    \n"
       ]
      }
     ],
     "prompt_number": 26
    },
    {
     "cell_type": "markdown",
     "metadata": {},
     "source": [
      "**Introduction**<br> \n",
      "\n",
      "Every geophysical survey consists of a similar basic framework. An energy source is delivered into the earth, and an array of recievers pick up a signal at the surface...\n"
     ]
    },
    {
     "cell_type": "markdown",
     "metadata": {},
     "source": [
      "<hr>\n",
      "**Module summary:** <br>\n",
      "\n",
      "(1) Start with an expression that relates a kernel function with the continuous distribution of a physical property. <br>\n",
      "(2) Discretize this expression. <br>\n",
      "(3) Define a mesh that organizes the data. <br>\n",
      "(4) Build up the matrix equation $d = Gm$. <br>\n",
      " <hr>"
     ]
    },
    {
     "cell_type": "markdown",
     "metadata": {},
     "source": [
      "**Step 1: Physical property distribution and the kernel function.** <br> \n",
      "1.1 define kernel function (...add description) <br>\n",
      "1.2 define the model. (...add description) <br>\n",
      "\n",
      "Each datum can be expressed as the inner product of the kernel function and the model:<br>\n",
      "\n",
      "*--the integral needs a physical description--*\n",
      "\n",
      "\\begin{equation}d_j = \\int_a^b g(x) m(x) dx \\end{equation}\n",
      "\n",
      "...each data point is a measure of a physical property of the entire earth at that point. Consequently it is the sum total (and is therefore the integral) of the influence of the material property specified by the model, "
     ]
    },
    {
     "cell_type": "markdown",
     "metadata": {},
     "source": [
      "<hr>\n",
      "**Step 2: Discretize the function for each datum.** <br>\n",
      "\n",
      "\\begin{equation}d_i = \\sum_{j=1}^N g_i (x_j) m_i \\Delta x\\end{equation}<br>\n",
      "\n",
      "We can then gather all the data (the $d^i$s) into a column vector (and say we have $M$ data). Similarly we assemble each kernel function as a row in a matrix, $\\widetilde{G}$, and our model parameters $m$ into a column vector of length $N$. For the spacing increments, we require that we obtain a single output for each $\\Delta x$ in the kernel function. It follows that this is best represented as a diagonal matrix, with a $\\Delta x$ on every diagonal entry. Combining all of the aforemention yields the following vector equation:<br>\n",
      "\n",
      "\\begin{equation}\n",
      "\\left[\n",
      "\\begin{array}{c}\n",
      "d_1\\\\\n",
      "d_2\\\\\n",
      "\\vdots\\\\\n",
      "d_M\n",
      "\\end{array}\n",
      "\\right]\n",
      "= \n",
      "\\begin{bmatrix}\n",
      "    g_1(x_j)    & g_1(x_j) &  g_1(x_j)  & \\dots & g_1(x_N)  \\\\\n",
      "    g_2(x_j)    & g_2(x_j) &  g_2(x_j)   & \\dots  & g_2(x_N)  \\\\\n",
      "    \\vdots       &  \\vdots    &  \\vdots     & \\vdots   &  \\vdots \\\\\n",
      "    g_M(x_j)    & g_M(x_j) &  g_M(x_j)   & \\dots  & g_M(x_N)  \\\\\n",
      "\\end{bmatrix}\n",
      "\\begin{bmatrix}\n",
      "    \\Delta x_1    & 0    & \\dots &0   \\\\\n",
      "        0         & \\Delta x_2   & \\dots  & 0  \\\\\n",
      "    \\vdots        &      \\vdots   & \\ddots  & \\vdots\\\\\n",
      "    0             & 0     & \\dots  & \\Delta x_N  \\\\\n",
      "\\end{bmatrix}\n",
      "\\left[\n",
      "\\begin{array}{c}\n",
      "m_1\\\\\n",
      "m_2\\\\\n",
      "\\vdots\\\\\n",
      "m_N\n",
      "\\end{array}\n",
      "\\right]\n",
      "\\end{equation} <br>\n",
      "\n",
      "Or put more succinctly: $d = \\widetilde{G} diag(\\Delta x) m$. \n",
      "\n",
      "Next, set up \"toy problem\" with $d_1$, $d_2$ and $j=1:5$.\n",
      "\n",
      "\n"
     ]
    },
    {
     "cell_type": "markdown",
     "metadata": {},
     "source": [
      "<hr>\n",
      "**Step 3: Define a mesh.**<br>\n",
      "\n",
      "While the previous section describes how the data is converted from a continuous function in physical space into discreet data \"chunks,\" what it does not address is the manner in which it is to be represented on a computer so that it is available for processing. <br>\n",
      "3.1 The physical property of interest lies in the cell centers. (...add sketch) <br>\n",
      "3.2 The kernel functions reside on the nodes (...add sketch) <br>"
     ]
    },
    {
     "cell_type": "markdown",
     "metadata": {},
     "source": [
      "<hr> \n",
      "**Step 4: Build up the matrix equation $d=Gm$.** <br>\n",
      "\n",
      "Note again that the kernel functions \"live\" on the nodes and the model values in the cell centers. To achieve the inner product of the kernel function with the model parameters we need to refomulate the $G$ matrix to obtain values for the kernel functions at the cell centers.<br>\n",
      "\n",
      "4.1 Define the matrix $G_n$ (as in \"n\" for \"nodes\") as the matrix containing the values for the kernel functions on the nodes. Given that we have $M$ data points and seek $N$ model parameters, it follows that the dimensions of $G_n$ will be $M \\times (N+1)$. Schematically, $G_n$ will appear like this: <br> <br>\n",
      "\\begin{equation}\n",
      "G_n = \n",
      "\\begin{bmatrix}\n",
      "    g_{n_1}^1    &  g_{n_2}^1 &  g_{n_3}^1  & \\dots & g_{n_{N+1}}^1  \\\\\n",
      "    g_{n_1}^2    &  g_{n_2}^2 &  g_{n_3}^2  & \\dots  & g_{n_{N+1}}^2  \\\\\n",
      "    \\vdots       &  \\vdots    &  \\vdots     & \\vdots   &  \\vdots   \\\\\n",
      "    g_{n_1}^M    &  g_{n_2}^M &  g_{n_3}^M  & \\dots  & g_{n_{N+1}}^M\n",
      "\\end{bmatrix}\n",
      "\\end{equation} <br>\n",
      "\n",
      "In order to evaluate the kernel functions on the cell centers, we will employ the trapezoidal rule, which states: <br>\n",
      "\n",
      "\n"
     ]
    },
    {
     "cell_type": "markdown",
     "metadata": {},
     "source": [
      "<img src=\"figures/trapeziodal_rule\" width=\"45%\" height=\"45%\">"
     ]
    },
    {
     "cell_type": "code",
     "collapsed": false,
     "input": [
      "import numpy as np"
     ],
     "language": "python",
     "metadata": {},
     "outputs": [],
     "prompt_number": 1
    },
    {
     "cell_type": "code",
     "collapsed": false,
     "input": [
      "m=5\n",
      "n=6\n",
      "w=n-1 \n",
      "s = (m,n)\n",
      "A = np.zeros(s)\n",
      "\n",
      "for i in range(m):\n",
      "    j=i\n",
      "    k=i+1\n",
      "    A[i,j] = 0.5  \n",
      "    A[i,k] = 0.5\n",
      "print A"
     ],
     "language": "python",
     "metadata": {},
     "outputs": [
      {
       "output_type": "stream",
       "stream": "stdout",
       "text": [
        "[[ 0.5  0.5  0.   0.   0.   0. ]\n",
        " [ 0.   0.5  0.5  0.   0.   0. ]\n",
        " [ 0.   0.   0.5  0.5  0.   0. ]\n",
        " [ 0.   0.   0.   0.5  0.5  0. ]\n",
        " [ 0.   0.   0.   0.   0.5  0.5]]\n"
       ]
      }
     ],
     "prompt_number": 2
    },
    {
     "cell_type": "code",
     "collapsed": false,
     "input": [
      "g = lambda x, k, p, q: np.exp(-p*k*x)*np.cos(2*np.pi*q*k*x)\n",
      "x=np.linspace(0,1,6)\n",
      "#x = np.array([0., 0.2, 0.4, 0.6, 0.8, 1.])\n",
      "p = 0.01\n",
      "q = 0.1\n",
      "k = np.array([1, 2, 3, 4, 5, 6])\n",
      "Gn = np.zeros((len(x), len(k)))\n",
      "\n",
      "for i in range(len(k)):\n",
      "    f = g(x,k[i],p,q)\n",
      "    Gn[:,i] = f\n",
      "#print f\n",
      "print Gn\n"
     ],
     "language": "python",
     "metadata": {},
     "outputs": [
      {
       "output_type": "stream",
       "stream": "stdout",
       "text": [
        "[[ 1.          1.          1.          1.          1.          1.        ]\n",
        " [ 0.99013245  0.96471657  0.92421453  0.86932419  0.80096714  0.72027328]\n",
        " [ 0.96471657  0.86932419  0.72027328  0.52732179  0.30289805  0.06130149]\n",
        " [ 0.92421453  0.72027328  0.41818383  0.06130149 -0.29988416 -0.61488486]\n",
        " [ 0.86932419  0.52732179  0.06130149 -0.41237005 -0.77729498 -0.94561804]\n",
        " [ 0.80096714  0.30289805 -0.29988416 -0.77729498 -0.95122942 -0.76190351]]\n"
       ]
      }
     ],
     "prompt_number": 25
    },
    {
     "cell_type": "code",
     "collapsed": false,
     "input": [],
     "language": "python",
     "metadata": {},
     "outputs": []
    },
    {
     "cell_type": "code",
     "collapsed": false,
     "input": [
      " f = lambda x, y : x + y\n",
      " f(1,1)"
     ],
     "language": "python",
     "metadata": {},
     "outputs": [
      {
       "metadata": {},
       "output_type": "pyout",
       "prompt_number": 77,
       "text": [
        "2"
       ]
      }
     ],
     "prompt_number": 77
    },
    {
     "cell_type": "code",
     "collapsed": false,
     "input": [
      "# make the delta x array\n",
      "deltax = 0.2*np.ones(m)\n",
      "V = np.diag(deltax)\n",
      "print V\n"
     ],
     "language": "python",
     "metadata": {},
     "outputs": [
      {
       "output_type": "stream",
       "stream": "stdout",
       "text": [
        "[[ 0.2  0.   0. ]\n",
        " [ 0.   0.2  0. ]\n",
        " [ 0.   0.   0.2]]\n"
       ]
      }
     ],
     "prompt_number": 16
    },
    {
     "cell_type": "markdown",
     "metadata": {},
     "source": []
    },
    {
     "cell_type": "code",
     "collapsed": false,
     "input": [],
     "language": "python",
     "metadata": {},
     "outputs": []
    }
   ],
   "metadata": {}
  }
 ]
}