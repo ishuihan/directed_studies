{
 "metadata": {
  "name": "",
  "signature": "sha256:f3eef29b031d645116a14d47a0a6b4ee00001f2ef7387556f65b13e5399aeb51"
 },
 "nbformat": 3,
 "nbformat_minor": 0,
 "worksheets": []
}