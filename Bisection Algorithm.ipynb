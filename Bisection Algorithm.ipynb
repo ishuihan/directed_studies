{
 "metadata": {
  "name": "",
  "signature": "sha256:10e016d95630ee1be3648344ac1fbdc55649e3e48a22e39eea1397dcfefbf2f0"
 },
 "nbformat": 3,
 "nbformat_minor": 0,
 "worksheets": [
  {
   "cells": [
    {
     "cell_type": "code",
     "collapsed": false,
     "input": [
      "# Import Packages\n",
      "from SimPEG import *\n",
      "from IPython.html.widgets import interactive\n",
      "import numpy as np\n",
      "%pylab inline"
     ],
     "language": "python",
     "metadata": {},
     "outputs": [
      {
       "output_type": "stream",
       "stream": "stdout",
       "text": [
        "Populating the interactive namespace from numpy and matplotlib\n"
       ]
      },
      {
       "output_type": "stream",
       "stream": "stderr",
       "text": [
        "WARNING: pylab import has clobbered these variables: ['interactive', 'beta']\n",
        "`%matplotlib` prevents importing * from pylab and numpy\n"
       ]
      }
     ],
     "prompt_number": 4
    },
    {
     "cell_type": "code",
     "collapsed": false,
     "input": [
      "beta_0=1000000 \n",
      "beta=beta_0\n",
      "m = np.array([1., 1])*beta\n",
      "phid = np.dot(m.T,m)**0.5\n",
      "phi_dstar=20\n",
      "phid_mid = []\n",
      "tol = 0.000000000000001\n",
      "i=1\n",
      "\n",
      "while np.absolute(phid - phi_dstar)>tol:  \n",
      "    m = np.array([1., 1])*beta                      #put fcn for m here\n",
      "    phid = np.dot(m.T,m)**0.5                       #put fcn for phid here\n",
      "    if phid>phi_dstar:\n",
      "        beta = beta_0*0.5**i\n",
      "    if phid<phi_dstar:\n",
      "        beta_abv = beta_0*0.5**(i-2)\n",
      "        beta_bel = beta_0*0.5**(i-1)\n",
      "        beta_mid = 0.5*(beta_abv+beta_bel)\n",
      "        mmid = np.array([1., 1])*beta_mid              #put fcn for m here\n",
      "        phidmid = np.dot(mmid.T,mmid)**0.5             #put fcn for phid here\n",
      "        while np.absolute(phidmid - phi_dstar)>tol:\n",
      "            if phidmid<phi_dstar:\n",
      "                beta_abv = beta_0*0.5**(i-2)\n",
      "                beta_bel = beta_mid\n",
      "                beta_mid = 0.5*(beta_abv+beta_bel)\n",
      "                beta=beta_mid\n",
      "                mmid = np.array([1., 1])*beta_mid      #put fcn for m here\n",
      "                phidmid = np.dot(mmid.T,mmid)**0.5     #put fcn for phi here     \n",
      "            if phidmid>phi_dstar:\n",
      "                beta_abv = beta_mid\n",
      "                beta_bel = beta_bel\n",
      "                beta_mid = 0.5*(beta_abv+beta_bel)\n",
      "                beta=beta_mid\n",
      "                mmid = np.array([1., 1])*beta_mid      #put fcn for m here\n",
      "                phidmid = np.dot(mmid.T,mmid)**0.5     #put fcn for phi here            \n",
      "                if phidmid<phi_dstar:\n",
      "                    beta_abv = beta_abv\n",
      "                    beta_bel = beta_mid\n",
      "                    beta_mid = 0.5*(beta_abv+beta_bel)\n",
      "                    beta=beta_mid\n",
      "                    mmid = np.array([1., 1])*beta_mid   #put fcn for m here\n",
      "                    phidmid = np.dot(mmid.T,mmid)**0.5  #put fcn for phi here\n",
      "            phid=phidmid\n",
      "            m=mmid\n",
      "    i=i+1   \n",
      "print(\"At end beta=\", beta,\"phid=\", phid)    "
     ],
     "language": "python",
     "metadata": {},
     "outputs": [
      {
       "output_type": "stream",
       "stream": "stdout",
       "text": [
        "('At end beta=', 14.142135623730951, 'phid=', 20.0)\n"
       ]
      }
     ],
     "prompt_number": 5
    },
    {
     "cell_type": "code",
     "collapsed": false,
     "input": [
      "beta_0=1000000 \n",
      "beta=beta_0\n",
      "m = np.array([1., 1])*beta\n",
      "phid = np.dot(m.T,m)**0.5\n",
      "phi_dstar=20\n",
      "phid_mid = []\n",
      "tol = 0.0001\n",
      "i=1\n",
      "\n",
      "while np.absolute(phid - phi_dstar)>tol:  \n",
      "    print(\"At start beta=\", beta)\n",
      "    m = np.array([1., 1])*beta\n",
      "    phid = np.dot(m.T,m)**0.5\n",
      "    print(\"Start Itn\",j, \"beta=\", beta, \"phid=\", phid)\n",
      "    if phid>phi_dstar:\n",
      "        beta = beta_0*0.5**i\n",
      "    if phid<phi_dstar:\n",
      "        beta_abv = beta_0*0.5**(i-2)\n",
      "        beta_bel = beta_0*0.5**(i-1)\n",
      "        beta_mid = 0.5*(beta_abv+beta_bel)\n",
      "        mabv= np.array([1., 1])*beta_abv\n",
      "        mbel= np.array([1., 1])*beta_bel\n",
      "        mmid = np.array([1., 1])*beta_mid\n",
      "        phidabv = np.dot(mabv.T,mabv)**0.5\n",
      "        phidbel = np.dot(mbel.T,mbel)**0.5\n",
      "        phidmid = np.dot(mmid.T,mmid)**0.5\n",
      "        print(\"Itn # is:\",j, \"below threshold\", \"beta above=\", beta_abv, \"beta below=\", beta_bel, \"beta mid=\",beta_mid)\n",
      "        print(\"Itn # is:\",j, \"below threshold\", \"phi above=\",  phidabv, \"phi below=\",  phidbel, \"phi mid=\", phidmid)   \n",
      "        while np.absolute(phidmid - phi_dstar)>tol:\n",
      "            if phidmid<phi_dstar:\n",
      "                beta_abv = beta_0*0.5**(i-2)\n",
      "                beta_bel = beta_mid\n",
      "                beta_mid = 0.5*(beta_abv+beta_bel)\n",
      "                beta=beta_mid\n",
      "                mabv= np.array([1., 1])*beta_abv\n",
      "                mbel= np.array([1., 1])*beta_bel\n",
      "                mmid = np.array([1., 1])*beta_mid\n",
      "                phidabv = np.dot(mabv.T,mabv)**0.5\n",
      "                phidbel = np.dot(mbel.T,mbel)**0.5\n",
      "                phidmid = np.dot(mmid.T,mmid)**0.5\n",
      "                print(\"Itn # is:\",j, \"in R1\", \"beta above=\", beta_abv, \"beta below=\", beta_bel, \"beta mid=\",beta_mid)\n",
      "                print(\"Itn # is:\",j, \"in R1\", \"phi above=\",  phidabv, \"phi below=\",  phidbel, \"phi mid=\", phidmid)         \n",
      "            if phidmid>phi_dstar:\n",
      "                beta_abv = beta_mid\n",
      "                beta_bel = beta_bel\n",
      "                beta_mid = 0.5*(beta_abv+beta_bel)\n",
      "                beta=beta_mid\n",
      "                mabv= np.array([1., 1])*beta_abv\n",
      "                mbel= np.array([1., 1])*beta_bel\n",
      "                mmid = np.array([1., 1])*beta_mid\n",
      "                phidabv = np.dot(mabv.T,mabv)**0.5\n",
      "                phidbel = np.dot(mbel.T,mbel)**0.5\n",
      "                phidmid = np.dot(mmid.T,mmid)**0.5                \n",
      "                print(\"Itn # is:\",j, \"in R2\", \"beta above=\", beta_abv, \"beta below=\", beta_bel, \"beta mid=\",beta_mid)\n",
      "                print(\"Itn # is:\",j, \"in R2\", \"phi above=\",  phidabv, \"phi below=\",  phidbel, \"phi mid=\", phidmid)\n",
      "                if phidmid<phi_dstar:\n",
      "                    beta_abv = beta_abv\n",
      "                    beta_bel = beta_mid\n",
      "                    beta_mid = 0.5*(beta_abv+beta_bel)\n",
      "                    beta=beta_mid\n",
      "                    mabv= np.array([1., 1])*beta_abv\n",
      "                    mbel= np.array([1., 1])*beta_bel\n",
      "                    mmid = np.array([1., 1])*beta_mid\n",
      "                    phidabv = np.dot(mabv.T,mabv)**0.5\n",
      "                    phidbel = np.dot(mbel.T,mbel)**0.5\n",
      "                    phidmid = np.dot(mmid.T,mmid)**0.5\n",
      "                    print(\"Itn # is:\",j, \"in R3\", \"beta above=\", beta_abv, \"beta below=\", beta_bel, \"beta mid=\",beta_mid)\n",
      "                    print(\"Itn # is:\",j, \"in R3\", \"phi above=\",  phidabv, \"phi below=\",  phidbel, \"phi mid=\", phidmid)  \n",
      "            phid=phidmid\n",
      "    print(\"At end beta=\", beta,\"phid=\", phid)\n",
      "    i=i+1          "
     ],
     "language": "python",
     "metadata": {},
     "outputs": [
      {
       "ename": "NameError",
       "evalue": "name 'np' is not defined",
       "output_type": "pyerr",
       "traceback": [
        "\u001b[1;31m---------------------------------------------------------------------------\u001b[0m\n\u001b[1;31mNameError\u001b[0m                                 Traceback (most recent call last)",
        "\u001b[1;32m<ipython-input-1-2a89a7e084bf>\u001b[0m in \u001b[0;36m<module>\u001b[1;34m()\u001b[0m\n\u001b[0;32m      1\u001b[0m \u001b[0mbeta_0\u001b[0m\u001b[1;33m=\u001b[0m\u001b[1;36m1000000\u001b[0m\u001b[1;33m\u001b[0m\u001b[0m\n\u001b[0;32m      2\u001b[0m \u001b[0mbeta\u001b[0m\u001b[1;33m=\u001b[0m\u001b[0mbeta_0\u001b[0m\u001b[1;33m\u001b[0m\u001b[0m\n\u001b[1;32m----> 3\u001b[1;33m \u001b[0mm\u001b[0m \u001b[1;33m=\u001b[0m \u001b[0mnp\u001b[0m\u001b[1;33m.\u001b[0m\u001b[0marray\u001b[0m\u001b[1;33m(\u001b[0m\u001b[1;33m[\u001b[0m\u001b[1;36m1.\u001b[0m\u001b[1;33m,\u001b[0m \u001b[1;36m1\u001b[0m\u001b[1;33m]\u001b[0m\u001b[1;33m)\u001b[0m\u001b[1;33m*\u001b[0m\u001b[0mbeta\u001b[0m\u001b[1;33m\u001b[0m\u001b[0m\n\u001b[0m\u001b[0;32m      4\u001b[0m \u001b[0mphid\u001b[0m \u001b[1;33m=\u001b[0m \u001b[0mnp\u001b[0m\u001b[1;33m.\u001b[0m\u001b[0mdot\u001b[0m\u001b[1;33m(\u001b[0m\u001b[0mm\u001b[0m\u001b[1;33m.\u001b[0m\u001b[0mT\u001b[0m\u001b[1;33m,\u001b[0m\u001b[0mm\u001b[0m\u001b[1;33m)\u001b[0m\u001b[1;33m**\u001b[0m\u001b[1;36m0.5\u001b[0m\u001b[1;33m\u001b[0m\u001b[0m\n\u001b[0;32m      5\u001b[0m \u001b[0mphi_dstar\u001b[0m\u001b[1;33m=\u001b[0m\u001b[1;36m20\u001b[0m\u001b[1;33m\u001b[0m\u001b[0m\n",
        "\u001b[1;31mNameError\u001b[0m: name 'np' is not defined"
       ]
      }
     ],
     "prompt_number": 1
    },
    {
     "cell_type": "code",
     "collapsed": false,
     "input": [
      "beta=14.142075087875128\n",
      "m = np.array([1., 1])*beta\n",
      "phid = np.dot(m.T,m)**0.5\n",
      "phi_dstar=20\n",
      "print phid"
     ],
     "language": "python",
     "metadata": {},
     "outputs": [
      {
       "output_type": "stream",
       "stream": "stdout",
       "text": [
        "19.9999143894\n"
       ]
      }
     ],
     "prompt_number": 29
    },
    {
     "cell_type": "code",
     "collapsed": false,
     "input": [],
     "language": "python",
     "metadata": {},
     "outputs": []
    }
   ],
   "metadata": {}
  }
 ]
}