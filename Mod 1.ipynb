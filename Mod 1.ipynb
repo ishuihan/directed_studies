{
 "metadata": {
  "name": "",
  "signature": "sha256:1effcf18ab39dca5f5e5bd599621cf7640c1c2ecf19701106d0fe6f31ce8ca4a"
 },
 "nbformat": 3,
 "nbformat_minor": 0,
 "worksheets": [
  {
   "cells": [
    {
     "cell_type": "heading",
     "level": 1,
     "metadata": {},
     "source": [
      "Module 1: Setting up the problem"
     ]
    },
    {
     "cell_type": "heading",
     "level": 3,
     "metadata": {},
     "source": [
      "Introduction"
     ]
    },
    {
     "cell_type": "markdown",
     "metadata": {},
     "source": [
      "Geophysical surveys consist of a similar basic framework. An energy source is delivered into the earth, which can be natural (for example, the Earth's magnetic field) or human-made (current in the ground, acoustic wave energy, etc.), and this stimulates a response according to the variation in physical properties in the subsurface. At the surface, receivers pick up the a signal and record this as data. <br>\n",
      "\n",
      "\n",
      "<img src=\"figures/home_geopdiag3.gif\" width=\"30%\" height=\"30%\"> <br>\n",
      "\n",
      "The goal of inversion is to find a model of the physical property distribution in the earth that produced the data. This is a dificult process because (1) information about a physical property for each datum is encoded in a complex way, and (2) we have a finite amount of data and cannot represent the physical property distribution everywhere. <br>\n",
      "\n",
      "Inversion is a multistep process, often represented as a workflow *insert workflow image here*. The goal of this module is to cover the first section of the workflow, which discretizes the data and places the values of the functions onto a mesh. This will be done using the following steps:<br>\n",
      "\n",
      "(1) Start with an expression that relates a kernel function with the continuous distribution of a physical property. <br>\n",
      "(2) Discretize this expression, and introduce a simple example problem to illustrate the mathematics in detail. <br>\n",
      "(3) Define a mesh that organizes the data. <br>\n",
      "(4) Build up the matrix equation $d = Gm$. <br>\n",
      "(5) Generalize the form of the problem from the example. <br>\n",
      "(6) Implement the example problem in Python as a forward problem.\n",
      "\n",
      "But first, here are some fundamental definitions:<br>\n",
      "\n",
      "The general mathematical description of the inverse problem can be written as follows:<br>\n",
      "\n",
      "\\begin{equation} F_j[m]= d_j +n_j \\quad \\text{for} \\quad j=1,..,N \\; \\text{where}\\end{equation} <br>\n",
      " \n",
      "\n",
      "<ul>\n",
      "  <li>$\\bf{F}$ is a foward modeling operator. $\\bf{F}$ incorporates the survey design and the physics of the problem. </li>\n",
      "  <li>$\\bf{m}$ is a generic symbol for a physical property distibution.</li>\n",
      "  <li>$\\bf{d}$ represents the observed data, (sometimes also represented as $\\bf{d^{obs}}$).</li>\n",
      "  <li>$\\bf{n}$ is a term that represents additive noise.</li>\n",
      "</ul> <br>\n",
      "\n",
      "This is, of course, the most general formuation of the problem. In this module we will consider the simplest case, which is (a) one dimensional (this can be likened to a survey that varies as a function of depth only) and (b) linear, in which our forward modeling operator becomes a matrix **G** in the matix equation: <br>\n",
      "\n",
      "\\begin{equation}d = Gm\\end{equation} "
     ]
    },
    {
     "cell_type": "heading",
     "level": 3,
     "metadata": {},
     "source": [
      "Step 1: Physical property distribution and the kernel function."
     ]
    },
    {
     "cell_type": "markdown",
     "metadata": {},
     "source": [
      "Each datum ($d_i$) collected is a volumetric response, that is to say, every datum measures the response of the whole volume (within the range of the system); it records the superposition of effects caused by all the material in the ground, and is therefore naturally represented as an integral. A \"kernel function\" or \"sensitivity function\", $g(x,y,z)$, shows how a datum is affected by all the subsurface. It describes the physics of the problem. The model, $m(x,y,z)$, represents the distribution of a physical property in the volume. Since each datum measures the response of the kernel function with the physical property distribution in the volume, for a continuous medium we can express this relationship as the inner product of the kernel function and the model. In the one dimensional case the expression for the *ith* datum is written as:<br>\n",
      "\n",
      "\n",
      "\\begin{equation}d_i = \\int_a^b g_i(x) m(x) dx \\end{equation} <br>\n",
      "\n",
      "where again:\n",
      "\\begin{equation}\n",
      "    d :=\\text{measured data} \\\\\n",
      "    g :=\\text{kernel function} \\\\\n",
      "    m :=\\text{physical property}\\\\\n",
      "\\end{equation}\n",
      "\n"
     ]
    },
    {
     "cell_type": "heading",
     "level": 3,
     "metadata": {},
     "source": [
      "Step 2: Discretize the expression"
     ]
    },
    {
     "cell_type": "markdown",
     "metadata": {},
     "source": [
      "While the integral expression describes the inner product in a continuum, it is not possible to maintain this representation in our data space, so the above equation must be discretized. Let us consider the case where we have $N$ data, and as we build up the matrix equation, let $i$ be the rows and $j$ be the columns of our matrix: <br>\n",
      "\n",
      "\\begin{equation}d_i = \\int_a^b g_i(x) m(x) dx \\; \\Rightarrow \\; \\sum_{j=1}^N g_i (x_j) m_j \\Delta x\\end{equation} <br>\n",
      "\n",
      "**A \"Toy Problem\"** <br>\n",
      "\n",
      "Consider a simple case where we have a one dimensional, linear problem that will generate two data points, $d_1$ and $d_2$,from five physical property values <br> ($m_1, m_2, m_3, m_4, m_5$), and these two data points are generated using two kernel functions $g_1$ and $g_2$. Further, let us assume that our domain of interest lies on the interval [0,1]. The equation above is then expressed as the following two equations, one for each datum:<br>\n",
      "\n",
      "\\begin{equation}d_1 = \\int_0^1 g_1(x) m(x) dx \\; \\Rightarrow \\; \\sum_{j=1}^N g_1 (x_j) m_j \\Delta x\\end{equation} <br>\n",
      "\\begin{equation}d_2 = \\int_0^1 g_2(x) m(x) dx \\; \\Rightarrow \\; \\sum_{j=1}^N g_2 (x_j) m_j \\Delta x\\end{equation} <br>\n",
      "\n",
      "Given that our problem is small by design, it is instructive to visualize the summation notation as matrix-vector products. Doing so yields the following expressions:<br>\n",
      "\n",
      "(a) Data. We can collect our two data points into a column vector. Our data in vector notation is given by:<br>\n",
      "\n",
      "\\begin{equation}\n",
      "d = \\left[\n",
      "\\begin{array}{c}\n",
      "d_1\\\\\n",
      "d_2\n",
      "\\end{array}\n",
      "\\right]\n",
      "\\end{equation}<br>\n",
      "\n",
      "(b) The x-spacing. The x-spacings, $\\Delta x$, are represented by a diagonal matrix. Here we are in a one dimensional case, but in general our data will reside in a volume, so let this matrix be represented as $V$. In the most general situation, the x-spacings need not be equal, and there can be significant variation in the distances within a grid, depending on the amount of resolution one desires at a particular location. For the moment, let's ignore this complexity and assume equal spacing in our grid. Then let $V=diag(\\Delta x)$, and given the dimensions of our problem, $V$ appears as follows:<br>\n",
      "\n",
      "\\begin{equation}\n",
      "V=\\begin{bmatrix}\n",
      "    \\Delta x &0  &0 &0  &0 \\\\\n",
      "    0 &\\Delta x &0  &0 &0  \\\\ \n",
      "    0  &0  &\\Delta x &0 &0 \\\\\n",
      "    0  &0  &0 &\\Delta x   &0 \\\\\n",
      "    0  &0  &0  &0 &\\Delta x\\\\    \n",
      "\\end{bmatrix}\n",
      "\\end{equation} <br>\n",
      "\n",
      "(c) The model. The \n",
      "model, $m$, is a column vector with five rows:\n",
      "\\begin{equation}\n",
      "m=\n",
      "\\left[\n",
      "\\begin{array}{c}\n",
      "m_1\\\\\n",
      "m_2\\\\\n",
      "m_3\\\\\n",
      "m_4\\\\\n",
      "m_5\n",
      "\\end{array}\n",
      "\\right]\n",
      "\\end{equation} <br>\n",
      "\n",
      "(d) The kernel functions. Recall that a kernel function shows how a datum is affected by all the subsurface. The full expression for the kernel function will be developed further in the next sections, but for the moment, let us put each kernel function on a row of a matrix, such that $g_1$ will be on row 1, and $g_2$ on row 2, and define this matrix as $\\widetilde{G}$. This will yield the matrix:\n",
      "\\begin{equation}\n",
      "\\widetilde{G}=\n",
      "\\begin{bmatrix}\n",
      "    g_{11} &g_{12} &g_{13} &g_{14} &g_{15}\\\\\n",
      "    g_{21} &g_{22} &g_{23} &g_{24} &g_{25}\n",
      "\\end{bmatrix}\n",
      "\\end{equation}\n",
      "\n",
      "Using the above, the assembled matrix vector forms for these equations becomes:<br>\n",
      "\n",
      "\\begin{equation}\n",
      "\\left[\n",
      "\\begin{array}{c}\n",
      "d_1\\\\\n",
      "d_2\\\\\n",
      "\\end{array}\n",
      "\\right]\n",
      "= \n",
      "\\begin{bmatrix}\n",
      "    g_{11} &g_{12} &g_{13} &g_{14} &g_{15}\\\\\n",
      "    g_{21} &g_{22} &g_{23} &g_{24} &g_{25}\n",
      "\\end{bmatrix}\n",
      "\\begin{bmatrix}\n",
      "    \\Delta x &0  &0 &0  &0 \\\\\n",
      "    0 &\\Delta x &0  &0 &0  \\\\ \n",
      "    0  &0  &\\Delta x &0 &0 \\\\\n",
      "    0  &0  &0 &\\Delta x   &0 \\\\\n",
      "    0  &0  &0  &0 &\\Delta x\\\\    \n",
      "\\end{bmatrix}\n",
      "\\left[\n",
      "\\begin{array}{c}\n",
      "m_1\\\\\n",
      "m_2\\\\\n",
      "m_3\\\\\n",
      "m_4\\\\\n",
      "m_5\n",
      "\\end{array}\n",
      "\\right]\n",
      "\\end{equation}\n",
      "\n",
      "Or to put it succinctly, $d = \\widetilde{G} \\, diag(\\Delta x)\\, m$.\n",
      "\n",
      "\n",
      "\n",
      "\n",
      "\n"
     ]
    },
    {
     "cell_type": "heading",
     "level": 3,
     "metadata": {},
     "source": [
      "Step 3: Set up the mesh"
     ]
    },
    {
     "cell_type": "markdown",
     "metadata": {},
     "source": [
      "Now that the data has ben discretized, lets look at where the data is to be placed in our data space. First, subdivide the one dimensional domain into cell centers and nodes, with spacings of $\\Delta x$: <br>\n",
      "\n",
      "<img src=\"figures/1D_domain.png\" width=\"35%\" height=\"35%\">\n",
      "\n",
      "\n",
      "\n",
      "For convenience (and for applications that will be discussed in later modules), the model values reside in the cell centers, while the values for the kernel functions reside on the nodes. <br>\n",
      "\n",
      "\n",
      "<img src=\"figures/m_g_fig.png\" width=\"35%\" height=\"35%\">\n",
      "\n",
      "\n",
      "<br>\n",
      "<img src=\"figures/trapeziodal_rule.jpg\" width=\"15%\"align=\"right\">\n",
      "\n",
      "Note that the kernel function in our example (represented above) has six values and the model values are five; moreover, the x-coordinates where $g(x) $  and $m(x)$ are evaluated are not coincident, and this leads to a complication when we want to perform the inner product of **m** and **g**. What is needed is a way to evaluate the kernel functions at the cell centers. To do this, we employ the trapeziodal rule for approximating integration. Simply put, to obtain the values of the kernel function on the cell centers, take the average of the kernel function values on the adjacent nodes. Let us then define two kernel function matrices, one with values evaluated on the cell centers, $G_c$ (represented by the black circles below), and another with the values evaluated on the nodes, $G_n$ (in white). \n",
      "\n",
      "<img src=\"figures/g_fig2.jpg\" width=\"30%\"align=\"center\">\n",
      "\n",
      "The relationship between $G_c $ and $G_n$ is an \"averaging matix\", $A_v$, such that $G_c = A_v G_n$. Putting each kernel function in the columns for both $G_c$ and $G_n$, and using again the dimensions of our toy problem, this relation appears as follows:\n",
      "\n",
      "\\begin{equation}\n",
      "\\begin{bmatrix}\n",
      "    g_{c1}(x_1)    & g_{c2}(x_1)  \\\\\n",
      "    g_{c1}(x_2)    & g_{c2}(x_2)  \\\\\n",
      "    g_{c1}(x_3)    & g_{c2}(x_3)  \\\\\n",
      "    g_{c1}(x_4)    & g_{c2}(x_4)  \\\\\n",
      "    g_{c1}(x_5)    & g_{c2}(x_5)  \\\\  \n",
      "\\end{bmatrix}\n",
      "= \n",
      "\\frac{1}{2}\n",
      "\\begin{bmatrix}\n",
      "    1 & 1 & 0 & 0 & 0 & 0\\\\\n",
      "    0 & 1 & 1 & 0 & 0 & 0\\\\\n",
      "    0 & 0 & 1 & 1 & 0 & 0\\\\\n",
      "    0 & 0 & 0 & 1 & 1 & 0\\\\\n",
      "    0 & 0 & 0 & 0 & 1 & 1\\\\    \n",
      "\\end{bmatrix}\n",
      "\\begin{bmatrix}\n",
      "    g_{n1}(x_1)    & g_{n2}(x_1)  \\\\\n",
      "    g_{n1}(x_2)    & g_{n2}(x_2)  \\\\\n",
      "    g_{n1}(x_3)    & g_{n2}(x_3)  \\\\\n",
      "    g_{n1}(x_4)    & g_{n2}(x_4)  \\\\\n",
      "    g_{n1}(x_5)    & g_{n2}(x_5)  \\\\\n",
      "    g_{n1}(x_6)    & g_{n2}(x_6)  \\\\    \n",
      "\\end{bmatrix}\n",
      "\\end{equation} <br>\n",
      "\n",
      "Meanwhile, the relationship between $G_c$ and $\\widetilde{G}$ in step 2 is such that $G_c = \\widetilde{G}^T$. "
     ]
    },
    {
     "cell_type": "heading",
     "level": 3,
     "metadata": {},
     "source": [
      "Step 4: Build up the matrix equation $d=Gm$\u00b6"
     ]
    },
    {
     "cell_type": "markdown",
     "metadata": {},
     "source": [
      "We now have all the required building blocks to assemble the matrix equation. At the end of step 2 we arrived at $d = \\widetilde{G} \\, diag(\\Delta x)\\, m$, and from the previous step we have $G_c = \\widetilde{G}^T = A_v G_n$. Put more orderly, $\\widetilde{G} = (A_v G_n)^T$, so substuting this into our expression gives:\n",
      "\n",
      "\\begin{equation}\n",
      "d = (A_v G_n)^T \\, diag(\\Delta x)\\, m\n",
      "\\end{equation}<br>\n",
      "\n",
      "If we group matrices together and let $G = (A_v G_n)^T diag(\\Delta x)$ then we arrive at $d=Gm$, our desired form. Referring again to our example, this would appear as follows:\n",
      "\n",
      "\\begin{equation}\n",
      "\\left[\n",
      "\\begin{array}{c}\n",
      "d_1\\\\\n",
      "d_2\\\\\n",
      "\\end{array}\n",
      "\\right]\n",
      "= \n",
      "\\frac{1}{2}\n",
      "\\left(\n",
      "\\begin{bmatrix}\n",
      "    1 & 1 & 0 & 0 & 0 & 0\\\\\n",
      "    0 & 1 & 1 & 0 & 0 & 0\\\\\n",
      "    0 & 0 & 1 & 1 & 0 & 0\\\\\n",
      "    0 & 0 & 0 & 1 & 1 & 0\\\\\n",
      "    0 & 0 & 0 & 0 & 1 & 1\\\\    \n",
      "\\end{bmatrix}\n",
      "\\begin{bmatrix}\n",
      "    g_{n1}(x_1)    & g_{n2}(x_1)  \\\\\n",
      "    g_{n1}(x_2)    & g_{n2}(x_2)  \\\\\n",
      "    g_{n1}(x_3)    & g_{n2}(x_3)  \\\\\n",
      "    g_{n1}(x_4)    & g_{n2}(x_4)  \\\\\n",
      "    g_{n1}(x_5)    & g_{n2}(x_5)  \\\\\n",
      "    g_{n1}(x_6)    & g_{n2}(x_6)  \\\\    \n",
      "\\end{bmatrix}\n",
      "\\right)^T\n",
      "\\begin{bmatrix}\n",
      "    \\Delta x &0  &0 &0  &0 \\\\\n",
      "    0 &\\Delta x &0  &0 &0  \\\\ \n",
      "    0  &0  &\\Delta x &0 &0 \\\\\n",
      "    0  &0  &0 &\\Delta x   &0 \\\\\n",
      "    0  &0  &0  &0 &\\Delta x\\\\    \n",
      "\\end{bmatrix}\n",
      "\\left[\n",
      "\\begin{array}{c}\n",
      "m_1\\\\\n",
      "m_2\\\\\n",
      "m_3\\\\\n",
      "m_4\\\\\n",
      "m_5\n",
      "\\end{array}\n",
      "\\right]\n",
      "\\end{equation} <br>\n",
      "\n"
     ]
    },
    {
     "cell_type": "heading",
     "level": 3,
     "metadata": {},
     "source": [
      "Step 5: Generalize the form of the problem"
     ]
    },
    {
     "cell_type": "markdown",
     "metadata": {},
     "source": [
      "In the above case we had two data points and five model values. We can generalize this to larger data sets easily. In the case where we have $M$ measured data and $N$ model values, we obtain a matrix equation of the following dimensions:\n",
      "\n",
      "\\begin{equation}\n",
      "(M \\times 1) = [(N \\times (N+1)) \\; ((N+1) \\times M)]^T (N  \\times N) (N \\times 1)\\\\\n",
      "d \\qquad = \\qquad \\qquad  \\qquad \\quad   [A_v G_n]^T  \\qquad \\qquad diag(\\Delta x) \\quad m\n",
      "\\end{equation}"
     ]
    },
    {
     "cell_type": "heading",
     "level": 3,
     "metadata": {},
     "source": [
      "Step 6: Implement the example problem in Python."
     ]
    },
    {
     "cell_type": "markdown",
     "metadata": {},
     "source": [
      "Next, we will build up our matrices one by one in Python. First import the SimPEG and numpy packages:"
     ]
    },
    {
     "cell_type": "code",
     "collapsed": false,
     "input": [
      "from SimPEG import *\n",
      "from IPython.html.widgets import interactive\n",
      "import numpy as np"
     ],
     "language": "python",
     "metadata": {},
     "outputs": [],
     "prompt_number": 46
    },
    {
     "cell_type": "markdown",
     "metadata": {},
     "source": [
      "Let start by formulating the forward problem, that is, let us assume that we have our model values $m$ and seek to generate synthetic data $d$. Recall that we are building up the matrix equation: $d = (A_v G_n)^T \\, diag(\\Delta x)\\, m$, so let's start with the right hand side and go over each matrix, one by one. <br>\n",
      "\n",
      "(1) The $A_v$ matrix. We can build the \"averaging matrix\" as follows:"
     ]
    },
    {
     "cell_type": "code",
     "collapsed": false,
     "input": [
      "N=5              # RecalL is the number of data we have in m. \n",
      "n=N+1            # Define n as the N+1 dimension of the matrix   \n",
      "w=n-1            # Define w and the n-1  dimentsion of the matix   \n",
      "s = (N,n)        # Store matrix values \n",
      "Av = np.zeros(s) # Create a matrix of zeros of the correct dimensions \n",
      "                 # and fill in with elements usin the loop below (note the 1/2 is included in here). \n",
      "for i in range(N):\n",
      "    j=i\n",
      "    k=i+1\n",
      "    Av[i,j] = 0.5  \n",
      "    Av[i,k] = 0.5\n",
      "print Av"
     ],
     "language": "python",
     "metadata": {},
     "outputs": [
      {
       "output_type": "stream",
       "stream": "stdout",
       "text": [
        "[[ 0.5  0.5  0.   0.   0.   0. ]\n",
        " [ 0.   0.5  0.5  0.   0.   0. ]\n",
        " [ 0.   0.   0.5  0.5  0.   0. ]\n",
        " [ 0.   0.   0.   0.5  0.5  0. ]\n",
        " [ 0.   0.   0.   0.   0.5  0.5]]\n"
       ]
      }
     ],
     "prompt_number": 47
    },
    {
     "cell_type": "markdown",
     "metadata": {},
     "source": [
      "(2) The kernel matrix on the nodes, $G_n$. To build this matrix, we must first define a sensitivity function that describes some physical phenomenon. For the sake of our example, even though it has no direct, physical meaning, let us define our kernel function for the toy problem as follows:<br><br>\n",
      "\\begin{equation}\n",
      "g_j(x) = e^{jpx} \\cos(2 \\pi j q x)\n",
      "\\end{equation} <br>"
     ]
    },
    {
     "cell_type": "code",
     "collapsed": false,
     "input": [
      "g = lambda x, k, p, q: np.exp(-p*k*x)*np.cos(2*np.pi*q*k*x) # create an anonymous function as immediately above\n",
      "x=np.linspace(0,1,6)                                          # define the nodes of our x-array\n",
      "#x = np.array([0., 0.2, 0.4, 0.6, 0.8, 1.])\n",
      "p = 0.01\n",
      "q = 0.1\n",
      "j = np.array([1, 2])\n",
      "Gn = np.zeros((len(x), len(j)))\n",
      "\n",
      "for i in range(len(j)):\n",
      "    f = g(x,i,p,q)\n",
      "    Gn[:,i] = f\n",
      "#print f\n",
      "print Gn"
     ],
     "language": "python",
     "metadata": {},
     "outputs": [
      {
       "output_type": "stream",
       "stream": "stdout",
       "text": [
        "[[ 1.          1.        ]\n",
        " [ 1.          0.99013245]\n",
        " [ 1.          0.96471657]\n",
        " [ 1.          0.92421453]\n",
        " [ 1.          0.86932419]\n",
        " [ 1.          0.80096714]]\n"
       ]
      }
     ],
     "prompt_number": 56
    },
    {
     "cell_type": "markdown",
     "metadata": {},
     "source": [
      "(3) The volume matrix $V$. This simply consists of making an $N \\times N$ array of x-spacings, $\\Delta x.$"
     ]
    },
    {
     "cell_type": "code",
     "collapsed": false,
     "input": [
      "# make the delta x array\n",
      "\n",
      "Deltax = 0.2*np.ones(N) # set x-spacings\n",
      "V = np.diag(Deltax)     # create diagonal matrix     \n",
      "print V\n"
     ],
     "language": "python",
     "metadata": {},
     "outputs": [
      {
       "output_type": "stream",
       "stream": "stdout",
       "text": [
        "[[ 0.2  0.   0.   0.   0. ]\n",
        " [ 0.   0.2  0.   0.   0. ]\n",
        " [ 0.   0.   0.2  0.   0. ]\n",
        " [ 0.   0.   0.   0.2  0. ]\n",
        " [ 0.   0.   0.   0.   0.2]]\n"
       ]
      }
     ],
     "prompt_number": 52
    },
    {
     "cell_type": "markdown",
     "metadata": {},
     "source": [
      "(4) Input the model values, $m$. Given that we are making a forward problem, we assume these values as given, so we input ficticious values:"
     ]
    },
    {
     "cell_type": "code",
     "collapsed": false,
     "input": [
      "m = np.array([0.02, 0.05, 0.09, 0.07, 0.04])\n",
      "print m"
     ],
     "language": "python",
     "metadata": {},
     "outputs": [
      {
       "output_type": "stream",
       "stream": "stdout",
       "text": [
        "[ 0.02  0.05  0.09  0.07  0.04]\n"
       ]
      }
     ],
     "prompt_number": 53
    },
    {
     "cell_type": "markdown",
     "metadata": {},
     "source": [
      "(5) Generate our two data values. The remaining step is simply to perform the matix-vector multiplication :"
     ]
    },
    {
     "cell_type": "code",
     "collapsed": false,
     "input": [
      "d = np.dot(np.dot(np.transpose(np.dot(Av, Gn)), V),m)\n",
      "print d\n"
     ],
     "language": "python",
     "metadata": {},
     "outputs": [
      {
       "output_type": "stream",
       "stream": "stdout",
       "text": [
        "[ 0.054       0.04999083]\n"
       ]
      }
     ],
     "prompt_number": 54
    },
    {
     "cell_type": "code",
     "collapsed": false,
     "input": [
      "# Put x array on cell centers as follow\n",
      "\n",
      "x = np.array([0., 0.2, 0.4, 0.6, 0.8, 1.])\n",
      "xc = 0.5*(x[1:] + x[0:-1])\n",
      "print x\n",
      "print xc"
     ],
     "language": "python",
     "metadata": {},
     "outputs": [
      {
       "output_type": "stream",
       "stream": "stdout",
       "text": [
        "[ 0.   0.2  0.4  0.6  0.8  1. ]\n",
        "[ 0.1  0.3  0.5  0.7  0.9]\n"
       ]
      }
     ],
     "prompt_number": 55
    },
    {
     "cell_type": "markdown",
     "metadata": {},
     "source": [
      "This is just an extra cell with more equations if needed:<br>\n",
      "\n",
      "\\begin{equation}\n",
      "\\left[\n",
      "\\begin{array}{c}\n",
      "d_1\\\\\n",
      "d_2\\\\\n",
      "\\end{array}\n",
      "\\right]\n",
      "= \n",
      "\\frac{1}{2}\n",
      "\\left(\n",
      "\\begin{bmatrix}\n",
      "    g_{n1}(x_1) + g_{n1}(x_2)    & g_{n2}(x_1) + g_{n2}(x_2)  \\\\\n",
      "    g_{n1}(x_2) + g_{n1}(x_3)    & g_{n2}(x_2) + g_{n2}(x_3)   \\\\\n",
      "    g_{n1}(x_3) + g_{n1}(x_4)    & g_{n2}(x_3) + g_{n2}(x_4)  \\\\\n",
      "    g_{n1}(x_4) + g_{n1}(x_5)    & g_{n2}(x_4) + g_{n2}(x_5)  \\\\\n",
      "    g_{n1}(x_5) + g_{n1}(x_6)    & g_{n2}(x_5) + g_{n2}(x_6)   \\\\   \n",
      "\\end{bmatrix}\n",
      "\\right)^T\n",
      "\\begin{bmatrix}\n",
      "    \\Delta x &0  &0 &0  &0 \\\\\n",
      "    0 &\\Delta x &0  &0 &0  \\\\ \n",
      "    0  &0  &\\Delta x &0 &0 \\\\\n",
      "    0  &0  &0 &\\Delta x   &0 \\\\\n",
      "    0  &0  &0  &0 &\\Delta x\\\\    \n",
      "\\end{bmatrix}\n",
      "\\left[\n",
      "\\begin{array}{c}\n",
      "m_1\\\\\n",
      "m_2\\\\\n",
      "m_3\\\\\n",
      "m_4\\\\\n",
      "m_5\n",
      "\\end{array}\n",
      "\\right]\n",
      "\\end{equation} <br>\n",
      "\n"
     ]
    }
   ],
   "metadata": {}
  }
 ]
}