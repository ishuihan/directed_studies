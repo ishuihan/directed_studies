{
 "metadata": {
  "name": "",
  "signature": "sha256:76e238aff1b5b814f7da2c2e8d24f0abea1aeb56ca5e6003b4fa07c48028c97c"
 },
 "nbformat": 3,
 "nbformat_minor": 0,
 "worksheets": [
  {
   "cells": [
    {
     "cell_type": "markdown",
     "metadata": {},
     "source": [
      "Start with the objective function consisting of both a data misfit and model regularization:\n",
      "$$\n",
      "\\phi = \\phi_d + \\beta \\phi_m\n",
      "$$\n",
      "For the linear problem we are considering\n",
      "$$\n",
      "\\phi_d = \\frac{1}{2}\\| W_d (Gm-d^{obs})\\|_2^2 = \\frac{1}{2}(Gm-d^{obs})^T W_d^T W_d (Gm-d^{obs})\n",
      "$$\n",
      "and\n",
      "$$\n",
      "\\phi_m = \\frac{1}{2} \\|W_m (m-m_{ref}) \\|^2_2 = \\frac{1}{2}(m-m_{ref})^T W_m^T W_m (m-m_{ref})\n",
      "$$\n",
      "\n",
      "To minimize this, we want to look at\n",
      "$$\n",
      "\\frac{d \\phi}{dm}\n",
      "$$\n",
      "and \n",
      "$$\n",
      "\\frac{d^2 \\phi}{dm^2}\n",
      "$$"
     ]
    },
    {
     "cell_type": "markdown",
     "metadata": {},
     "source": [
      "Before diving into those derivatives, we looked at \n",
      "$$\n",
      "\\frac{d}{dx} (Ax) = A \\frac{dx}{dx} = A\n",
      "$$\n",
      "since $\\frac{dx}{dx} = I$ (the derivative of a vector is always a matrix) \n",
      "Next, we look at $x^TAx$(recall that for a scalar $a = a^T$ and then take the deriv by first fixing $x$ then fixing $x^T$) \n",
      "$$\n",
      "\\frac{d}{dx} (x^TAx) = \\frac{1}{2}( \\frac{d}{dx} (x^T)_{fix}Ax + \\frac{d}{dx}( (x_{fix})^T A^Tx )) \n",
      "$$\n",
      "\n",
      "There is also an convention that we have to be careful with... for functions \n",
      "\n",
      "- $f: \\mathcal{R^n} \\to \\mathcal{R^n}$ (ie. $f(x) = A x$), the derivative is as expected ($\\frac{d}{dx} Ax = A$) \n",
      "- $f: \\mathcal{R^n} \\to \\mathcal{R}$ (ie. $f(x) = s^T x$), the derivative is transposed so we get a column vector ($\\frac{d}{dx} s^T x = s)$\n",
      "\n",
      "With that in mind... let define $s^T = (x^T)_{fix}A$, and $q^T = x_{fix})^T A^T$ since these are both row vectors. Then,\n",
      "$$\n",
      "\\frac{d}{dx} (x^TAx) \n",
      "= \\frac{1}{2}( (s^T\\frac{dx}{dx})^T + (q^T\\frac{dx}{dx})^T )\n",
      "\\\\ \n",
      "= \\frac{1}{2}( \\frac{dx}{dx}^Ts + \\frac{dx}{dx}^T q )\n",
      "\\\\\n",
      "= \\frac{1}{2} \\frac{dx}{dx}^T (s + q)\n",
      "$$\n",
      "$\\frac{dx}{dx} = I$ is just the identity matrix, so we can drop it\n",
      "$$\n",
      "= \\frac{1}{2} (s + q)\n",
      "$$\n",
      "here, we substitute back in the definitions of $s$ and $q$, dropping the $fix$ subscript \n",
      "$$\n",
      "= \\frac{1}{2} ((x^TA)^T + (x^TA^T)^T ) \n",
      "$$\n",
      "which simplifies to\n",
      "$$\n",
      "=  \\frac{1}{2} (A^T + A ) x\n",
      "$$\n",
      "remember that this simplifies even further if $A$ is symmetric. "
     ]
    },
    {
     "cell_type": "markdown",
     "metadata": {},
     "source": [
      "Ok, so lets now look at taking the derivative of $\\phi_d$ wrt $m$. Instead of expanding out the whole thing, lets make a simplification and do this in two steps. We define\n",
      "$$\n",
      "r = Gm - d^{obs}\n",
      "$$\n",
      "then \n",
      "$$\n",
      "\\phi_d = \\frac{1}{2} r^T W_d^T W_d r\n",
      "$$\n",
      "We will make one more simplification to draw parallels with the above examples, namely: \n",
      "$$\n",
      "A = W_d^T W_d\n",
      "$$\n",
      "Note that $A$ is symmetric. So we now want to take the derivative of \n",
      "$$\n",
      "\\phi_d = \\frac{1}{2} r^T A r\n",
      "$$\n",
      "wrt $m$, remembering that $r = r(m)$"
     ]
    },
    {
     "cell_type": "markdown",
     "metadata": {},
     "source": [
      "Apply the same process as we did for $x^T A x$\n",
      "$$\n",
      "\\frac{d \\phi_d}{dm} = \\frac{1}{2}\\frac{d}{dm} (r^T A r)\n",
      "\\\\\n",
      "= \\frac{1}{2} ((r^T A \\frac{dr}{dm})^T+(r^T A^T \\frac{dr}{dm})^T)\n",
      "\\\\\n",
      "= \\frac{1}{2} \\frac{dr}{dm}^T( A^T + A) r\n",
      "$$\n",
      "ok, now we need \n",
      "$$\n",
      "\\frac{dr}{dm} = \\frac{d}{dm} (Gm - d^{obs}) = \\frac{d}{dm} Gm - \\frac{d}{dm}d^{obs} =  \\frac{d}{dm} Gm\n",
      "$$\n",
      "which is identical to the case of $\\frac{d}{dx} Ax$\n",
      "I will let you take it from here!"
     ]
    },
    {
     "cell_type": "heading",
     "level": 1,
     "metadata": {},
     "source": []
    },
    {
     "cell_type": "markdown",
     "metadata": {},
     "source": []
    },
    {
     "cell_type": "code",
     "collapsed": false,
     "input": [],
     "language": "python",
     "metadata": {},
     "outputs": []
    }
   ],
   "metadata": {}
  }
 ]
}